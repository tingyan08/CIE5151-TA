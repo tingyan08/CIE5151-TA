{
 "cells": [
  {
   "attachments": {},
   "cell_type": "markdown",
   "metadata": {},
   "source": [
    "## Homework 02-1: due 2023/04/13 23:59 (30%)\n",
    "\n",
    "#### - In this part, you should calculate the forward pass and backpropagation manually and there is no need for any coding.\n",
    "\n",
    "#### - Please scan your hand-writting calculation and save it as HW2-1.pdf\n",
    "\n",
    "#### - You can check your answer and observe how PyTorch do the backpropagation with the following script.\n",
    "\n",
    "#### - You can change the iterations in script to observe how the loss and the output change."
   ]
  },
  {
   "attachments": {},
   "cell_type": "markdown",
   "metadata": {},
   "source": [
    "##### 1. Please do the forward pass and backpropagation with a neural network as below, the __input is 3__ and the __target is 0__. Also, calculate the quadratic loss, \n",
    "##### i.e, $$Loss = \\frac{1}{2}(y-y^*)^2$$ \n",
    "##### Please __update the parameters twice__, i.e., do two back propagation operations, and use the __learning rate 0.01__, __initial weights 1__ , and __initial bias -0.5__."
   ]
  },
  {
   "attachments": {},
   "cell_type": "markdown",
   "metadata": {},
   "source": []
  },
  {
   "cell_type": "code",
   "execution_count": 18,
   "metadata": {},
   "outputs": [],
   "source": [
    "import torch\n",
    "import torch.nn as nn\n",
    "import torch.optim as optim\n",
    "from collections import OrderedDict"
   ]
  },
  {
   "cell_type": "code",
   "execution_count": 19,
   "metadata": {},
   "outputs": [],
   "source": [
    "X = torch.tensor([3], dtype= torch.float32)\n",
    "y = torch.tensor([0], dtype= torch.float32)"
   ]
  },
  {
   "cell_type": "code",
   "execution_count": 20,
   "metadata": {},
   "outputs": [],
   "source": [
    "# Half of the sum square error\n",
    "def loss(y, pred):\n",
    "    return ((pred-y)**2).sum()/2"
   ]
  },
  {
   "cell_type": "code",
   "execution_count": 21,
   "metadata": {},
   "outputs": [],
   "source": [
    "# Show parameters\n",
    "def show_parameters(i, X, model):\n",
    "    print(f\"Iters {i}\")\n",
    "    print(\"Input:\")\n",
    "    print(X)\n",
    "    for layer_name, layers in model.named_modules():\n",
    "        print(\"-----------------------\")\n",
    "        if not isinstance(layers, nn.Sequential):\n",
    "            for param_name, param in layers.named_parameters():\n",
    "                print(f\"{layer_name} {param_name} {param}\")\n",
    "                print(f\"{layer_name} {param_name} Gradient\")\n",
    "                print(param.grad)\n",
    "            print(f\"{layer_name} output:\")\n",
    "            X = layers(X)\n",
    "            print(X)\n",
    "            \n",
    "    print(\"===============================================\")"
   ]
  },
  {
   "cell_type": "code",
   "execution_count": 22,
   "metadata": {},
   "outputs": [],
   "source": [
    "def initialize_weights(model):\n",
    "    for name, i in model.named_modules():\n",
    "        if isinstance(i, nn.Linear):\n",
    "            nn.init.constant_(i.weight.data, 1)\n",
    "            nn.init.constant_(i.bias.data, -0.5)"
   ]
  },
  {
   "cell_type": "code",
   "execution_count": 23,
   "metadata": {},
   "outputs": [
    {
     "name": "stdout",
     "output_type": "stream",
     "text": [
      "Iters 0\n",
      "Input:\n",
      "tensor([3.])\n",
      "-----------------------\n",
      "-----------------------\n",
      "Layer1 weight Parameter containing:\n",
      "tensor([[1.],\n",
      "        [1.]], requires_grad=True)\n",
      "Layer1 weight Gradient\n",
      "tensor([[51.],\n",
      "        [51.]])\n",
      "Layer1 bias Parameter containing:\n",
      "tensor([-0.5000, -0.5000], requires_grad=True)\n",
      "Layer1 bias Gradient\n",
      "tensor([17., 17.])\n",
      "Layer1 output:\n",
      "tensor([2.5000, 2.5000], grad_fn=<AddBackward0>)\n",
      "-----------------------\n",
      "ReLU1 output:\n",
      "tensor([2.5000, 2.5000], grad_fn=<ReluBackward0>)\n",
      "-----------------------\n",
      "Layer2 weight Parameter containing:\n",
      "tensor([[1., 1.],\n",
      "        [1., 1.]], requires_grad=True)\n",
      "Layer2 weight Gradient\n",
      "tensor([[21.2500, 21.2500],\n",
      "        [21.2500, 21.2500]])\n",
      "Layer2 bias Parameter containing:\n",
      "tensor([-0.5000, -0.5000], requires_grad=True)\n",
      "Layer2 bias Gradient\n",
      "tensor([8.5000, 8.5000])\n",
      "Layer2 output:\n",
      "tensor([4.5000, 4.5000], grad_fn=<AddBackward0>)\n",
      "-----------------------\n",
      "ReLU2 output:\n",
      "tensor([4.5000, 4.5000], grad_fn=<ReluBackward0>)\n",
      "-----------------------\n",
      "Layer3 weight Parameter containing:\n",
      "tensor([[1., 1.]], requires_grad=True)\n",
      "Layer3 weight Gradient\n",
      "tensor([[38.2500, 38.2500]])\n",
      "Layer3 bias Parameter containing:\n",
      "tensor([-0.5000], requires_grad=True)\n",
      "Layer3 bias Gradient\n",
      "tensor([8.5000])\n",
      "Layer3 output:\n",
      "tensor([8.5000], grad_fn=<AddBackward0>)\n",
      "===============================================\n",
      "Iters 1\n",
      "Input:\n",
      "tensor([3.])\n",
      "-----------------------\n",
      "-----------------------\n",
      "Layer1 weight Parameter containing:\n",
      "tensor([[0.4900],\n",
      "        [0.4900]], requires_grad=True)\n",
      "Layer1 weight Gradient\n",
      "tensor([[0.7254],\n",
      "        [0.7254]])\n",
      "Layer1 bias Parameter containing:\n",
      "tensor([-0.6700, -0.6700], requires_grad=True)\n",
      "Layer1 bias Gradient\n",
      "tensor([0.2418, 0.2418])\n",
      "Layer1 output:\n",
      "tensor([0.8000, 0.8000], grad_fn=<AddBackward0>)\n",
      "-----------------------\n",
      "ReLU1 output:\n",
      "tensor([0.8000, 0.8000], grad_fn=<ReluBackward0>)\n",
      "-----------------------\n",
      "Layer2 weight Parameter containing:\n",
      "tensor([[0.7875, 0.7875],\n",
      "        [0.7875, 0.7875]], requires_grad=True)\n",
      "Layer2 weight Gradient\n",
      "tensor([[0.1228, 0.1228],\n",
      "        [0.1228, 0.1228]])\n",
      "Layer2 bias Parameter containing:\n",
      "tensor([-0.5850, -0.5850], requires_grad=True)\n",
      "Layer2 bias Gradient\n",
      "tensor([0.1535, 0.1535])\n",
      "Layer2 output:\n",
      "tensor([0.6750, 0.6750], grad_fn=<AddBackward0>)\n",
      "-----------------------\n",
      "ReLU2 output:\n",
      "tensor([0.6750, 0.6750], grad_fn=<ReluBackward0>)\n",
      "-----------------------\n",
      "Layer3 weight Parameter containing:\n",
      "tensor([[0.6175, 0.6175]], requires_grad=True)\n",
      "Layer3 weight Gradient\n",
      "tensor([[0.1678, 0.1678]])\n",
      "Layer3 bias Parameter containing:\n",
      "tensor([-0.5850], requires_grad=True)\n",
      "Layer3 bias Gradient\n",
      "tensor([0.2486])\n",
      "Layer3 output:\n",
      "tensor([0.2486], grad_fn=<AddBackward0>)\n",
      "===============================================\n"
     ]
    }
   ],
   "source": [
    "model = nn.Sequential(OrderedDict([(\"Layer1\", nn.Linear(1, 2)), \n",
    "                                   (\"ReLU1\", nn.ReLU()),\n",
    "                                   (\"Layer2\", nn.Linear(2, 2)), \n",
    "                                   (\"ReLU2\", nn.ReLU()),\n",
    "                                   (\"Layer3\", nn.Linear(2, 1))]))\n",
    "initialize_weights(model)\n",
    "lr = 0.01\n",
    "n_iters = 2\n",
    "optimizer = optim.SGD(model.parameters(), lr=lr, momentum=0)\n",
    "loss_list = []\n",
    "for i in range(n_iters):\n",
    "    optimizer.zero_grad()\n",
    "    pred = model(X)\n",
    "    l = loss(pred, y)\n",
    "    loss_list.append(l.detach().numpy())\n",
    "    l.backward()\n",
    "    show_parameters(i, X, model)\n",
    "    optimizer.step()"
   ]
  },
  {
   "cell_type": "markdown",
   "metadata": {},
   "source": [
    "## "
   ]
  },
  {
   "cell_type": "code",
   "execution_count": null,
   "metadata": {},
   "outputs": [],
   "source": []
  }
 ],
 "metadata": {
  "kernelspec": {
   "display_name": "Python 3",
   "language": "python",
   "name": "python3"
  },
  "language_info": {
   "codemirror_mode": {
    "name": "ipython",
    "version": 3
   },
   "file_extension": ".py",
   "mimetype": "text/x-python",
   "name": "python",
   "nbconvert_exporter": "python",
   "pygments_lexer": "ipython3",
   "version": "3.10.7"
  }
 },
 "nbformat": 4,
 "nbformat_minor": 4
}

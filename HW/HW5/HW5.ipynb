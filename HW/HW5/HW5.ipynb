{
 "cells": [
  {
   "attachments": {},
   "cell_type": "markdown",
   "metadata": {
    "id": "Cnz37uBd7H3X"
   },
   "source": [
    "## Homework 05: due 2023/05/25 23:59(100%)\n",
    "\n",
    "### - There are differences between every OpenCV version, please make sure the version is above 4.0.0 to avoid the bugs. \n",
    "\n",
    "### - Tutorial : \n",
    "1. Feature extraction and matching: https://docs.opencv.org/4.x/db/d27/tutorial_py_table_of_contents_feature2d.html\n",
    "2. Feature detectors (ORB & FAST): https://medium.com/data-breach/introduction-to-orb-oriented-fast-and-rotated-brief-4220e8ec40cf \n",
    "                   \n",
    "### - After you go through the tutorials, you should be able to work on this assignment.\n",
    "\n",
    "### - Please answer the following questions and work directly on this jupyter notebook.\n",
    "\n",
    "### - Make sure the code can be run and show the result and figures properly.\n",
    "\n",
    "### - Please write down your observation with markdown in this notebook briefly."
   ]
  },
  {
   "cell_type": "code",
   "execution_count": 1,
   "metadata": {
    "id": "ufozvcl7uPiE"
   },
   "outputs": [],
   "source": [
    "import cv2\n",
    "import numpy as np\n",
    "import matplotlib.pyplot as plt"
   ]
  },
  {
   "attachments": {},
   "cell_type": "markdown",
   "metadata": {
    "id": "0n4U61baMGVR"
   },
   "source": [
    "## 1. Feature detector (40%)\n",
    "### Please use the following feature detectors (FAST, ORB, SIFT) and draw the feature points on the __test1.jpg__ images.\n",
    "#### (Example figure)\n",
    "![Imgur](https://imgur.com/5hVZ8v9.jpg)\n"
   ]
  },
  {
   "cell_type": "code",
   "execution_count": null,
   "metadata": {},
   "outputs": [],
   "source": []
  },
  {
   "attachments": {},
   "cell_type": "markdown",
   "metadata": {
    "id": "Xn_DfJzi4HuE"
   },
   "source": [
    "## 2. Feature matching (60%)\n",
    "### Please match the feature points from the __test1.jpg__ and __test2.jpg__. Also, please apply Lowe's ratio test (with ratio 0.6 and 0.8) to match the features and observe the differences when adjusting the ratio.\n",
    "### 2.1 Please use __SIFT__ as feature detector and descriptor.(30%) \n",
    "#### (Example figure)\n",
    "![Imgur](https://imgur.com/zspvzKG.jpg)\n"
   ]
  },
  {
   "cell_type": "code",
   "execution_count": null,
   "metadata": {},
   "outputs": [],
   "source": []
  },
  {
   "attachments": {},
   "cell_type": "markdown",
   "metadata": {
    "id": "-W6hvoUiXaPc"
   },
   "source": [
    "### 2.2 Please use __ORB__ as feature detector and descriptor.(30%) \n",
    "#### (Example figure)\n",
    "![Imgur](https://imgur.com/3ZtQii2.jpg)"
   ]
  },
  {
   "cell_type": "code",
   "execution_count": 13,
   "metadata": {
    "id": "AH-e_txaN9qQ"
   },
   "outputs": [],
   "source": []
  }
 ],
 "metadata": {
  "colab": {
   "name": "HW5.ipynb",
   "provenance": []
  },
  "kernelspec": {
   "display_name": "Python 3",
   "language": "python",
   "name": "python3"
  },
  "language_info": {
   "codemirror_mode": {
    "name": "ipython",
    "version": 3
   },
   "file_extension": ".py",
   "mimetype": "text/x-python",
   "name": "python",
   "nbconvert_exporter": "python",
   "pygments_lexer": "ipython3",
   "version": "3.10.7"
  }
 },
 "nbformat": 4,
 "nbformat_minor": 4
}
